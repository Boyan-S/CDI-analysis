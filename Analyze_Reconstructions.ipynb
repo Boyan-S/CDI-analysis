{
 "cells": [
  {
   "cell_type": "code",
   "execution_count": null,
   "metadata": {},
   "outputs": [],
   "source": [
    "#Imports\n",
    "import numpy as np\n",
    "import matplotlib.pyplot as plt\n",
    "import tifffile as tf\n",
    "# from astropy.stats.circstats import *\n",
    "# from pyevtk.hl import gridToVTK\n",
    "# import pyvista\n",
    "plt.rcParams.update({'font.size': 16})\n",
    "\n",
    "from cdiUtils import *\n",
    "\n",
    "%matplotlib widget\n"
   ]
  },
  {
   "cell_type": "code",
   "execution_count": null,
   "metadata": {},
   "outputs": [],
   "source": [
    "path = 'D:/data/APS_CDI_Nov21/Shpyrko1121/Analysis/' #Path to the folder containing all reconstructions\n",
    "scannum = 'A_467' #Reconstruction number\n",
    "qPoints, PRTF = calcPRTF(path, scannum, nPoints = 21) #Phase Retrieval Transfer Function\n",
    "\n",
    "'''Adjust slice below to ~middle of the 3rd dimension of reconstruction shape'''\n",
    "CompareSlice(path, scannum,sliceNum = 30, log=False)"
   ]
  },
  {
   "cell_type": "code",
   "execution_count": null,
   "metadata": {},
   "outputs": [],
   "source": []
  }
 ],
 "metadata": {
  "kernelspec": {
   "display_name": "Python 3",
   "language": "python",
   "name": "python3"
  },
  "language_info": {
   "codemirror_mode": {
    "name": "ipython",
    "version": 3
   },
   "file_extension": ".py",
   "mimetype": "text/x-python",
   "name": "python",
   "nbconvert_exporter": "python",
   "pygments_lexer": "ipython3",
   "version": "3.7.6"
  }
 },
 "nbformat": 4,
 "nbformat_minor": 4
}
